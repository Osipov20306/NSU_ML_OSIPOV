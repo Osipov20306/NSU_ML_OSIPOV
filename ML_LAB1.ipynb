{
  "nbformat": 4,
  "nbformat_minor": 0,
  "metadata": {
    "colab": {
      "provenance": [],
      "authorship_tag": "ABX9TyOFAvxDnpP4J0UQFUvtBz7P",
      "include_colab_link": true
    },
    "kernelspec": {
      "name": "python3",
      "display_name": "Python 3"
    },
    "language_info": {
      "name": "python"
    }
  },
  "cells": [
    {
      "cell_type": "markdown",
      "metadata": {
        "id": "view-in-github",
        "colab_type": "text"
      },
      "source": [
        "<a href=\"https://colab.research.google.com/github/Osipov20306/NSU_ML_OSIPOV/blob/main/ML_LAB1.ipynb\" target=\"_parent\"><img src=\"https://colab.research.google.com/assets/colab-badge.svg\" alt=\"Open In Colab\"/></a>"
      ]
    },
    {
      "cell_type": "code",
      "source": [
        "class Pupa:\n",
        "  def __init__(self):\n",
        "    ''' Инициализация класса Pupa '''\n",
        "    self.val = 1000 # Ставка Пупы\n",
        "    self.spisok = []\n",
        "    self.count = 0 # Счетчик отработки\n",
        "\n",
        "  def do_work(self,spisok1, spisok2):\n",
        "    ''' Вычитаем входящие списки поэлементно '''\n",
        "    if len(spisok1) < len(spisok2):\n",
        "        for i in range(len(spisok2)-len(spisok1)):\n",
        "            spisok1.append(0)\n",
        "    else:\n",
        "        for i in range(len(spisok1)-len(spisok2)):\n",
        "            spisok2.append(0)\n",
        "    for i in range(len(spisok2)):\n",
        "      self.spisok.append(spisok1[i] + spisok2[i])\n",
        "      self.count +=1\n",
        "    return self.spisok\n",
        "\n",
        "  def take_salary(self,ind):\n",
        "    ''' Получение ЗП '''\n",
        "    return self.val * ind * self.count\n",
        "\n",
        "\n",
        "class Lupa:\n",
        "  def __init__(self):\n",
        "    ''' Инициализация класса Lupa '''\n",
        "    self.val = 1000 # Ставка Лупы\n",
        "    self.spisok = []\n",
        "    self.count = 0 # Счетчик отработки\n",
        "\n",
        "  def do_work(self,spisok1, spisok2):\n",
        "    ''' Вычитаем входящие списки поэлементно '''\n",
        "    if len(spisok1) < len(spisok2):\n",
        "        for i in range(len(spisok2)-len(spisok1)):\n",
        "            spisok1.append(0)\n",
        "    else:\n",
        "        for i in range(len(spisok1)-len(spisok2)):\n",
        "            spisok2.append(0)\n",
        "    for i in range(len(spisok2)):\n",
        "      self.spisok.append(spisok1[i] - spisok2[i])\n",
        "      self.count +=1\n",
        "    return self.spisok\n",
        "\n",
        "  def take_salary(self,ind):\n",
        "    ''' Получение ЗП '''\n",
        "    return self.val * ind * self.count\n",
        "\n",
        "\n",
        "class Accountant(Pupa,Lupa):\n",
        "  def __init__(self):\n",
        "    ''' Инициализация класса Accountant '''\n",
        "    self.val_for_workers = 1 # Множитель от руководства\n",
        "\n",
        "  def give_salary(self,worker):\n",
        "    return worker.take_salary(self.val_for_workers)\n",
        "\n",
        "\n",
        "\n",
        "print('Случай в бухгалтерии: (смеяца всем!)')\n",
        "\n",
        "print('')\n",
        "\n",
        "pupa = Pupa()\n",
        "print('Ставка Пупы за одну итерацию:',pupa.val)\n",
        "print('Пуууупа, а сложи-ка два list: [1,2,3],[4,5,6,7]')\n",
        "print(\"Пупа все посчиталь)0)):\",pupa.do_work([1,2,3],[4,5,6,7]))\n",
        "\n",
        "print('')\n",
        "\n",
        "lupa = Lupa()\n",
        "print('Ставка Пупы за одну итерацию:', lupa.val)\n",
        "print('Луууупа, а вычти два list: [1,2,3],[4,5,6,7]')\n",
        "print(\"Лупа все посчиталь)0)):\",lupa.do_work([1,2,3],[4,5,6,7]))\n",
        "\n",
        "print('')\n",
        "\n",
        "accountant = Accountant()\n",
        "print('Множитель к ставке от бухгалтерии',accountant.val_for_workers)\n",
        "print('Зарплата Пупы', accountant.give_salary(pupa))\n",
        "print('Зарплата Лупы', accountant.give_salary(lupa))\n",
        "\n",
        "print('')\n",
        "print('Вывод: Как мы видим, в бухгалтерии ничего не перепутали и Pupa не получил за Lupu :00))))0)))00000)))))')"
      ],
      "metadata": {
        "colab": {
          "base_uri": "https://localhost:8080/"
        },
        "id": "qmznFWrqxTch",
        "outputId": "8c3e23d4-2599-414c-ed16-114f32f7503c"
      },
      "execution_count": 24,
      "outputs": [
        {
          "output_type": "stream",
          "name": "stdout",
          "text": [
            "Случай в бухгалтерии: (смеяца всем!)\n",
            "\n",
            "Ставка Пупы за одну итерацию: 1000\n",
            "Пуууупа, а сложи-ка два list: [1,2,3],[4,5,6,7]\n",
            "Пупа все посчиталь)0)): [5, 7, 9, 7]\n",
            "\n",
            "Ставка Пупы за одну итерацию: 1000\n",
            "Луууупа, а вычти два list: [1,2,3],[4,5,6,7]\n",
            "Лупа все посчиталь)0)): [-3, -3, -3, -7]\n",
            "\n",
            "Множитель к ставке от бухгалтерии 1\n",
            "Зарплата Пупы 4000\n",
            "Зарплата Лупы 4000\n",
            "\n",
            "Вывод: Как мы видим, в бухгалтерии ничего не перепутали и Pupa не получил за Lupu :00))))0)))00000)))))\n"
          ]
        }
      ]
    }
  ]
}