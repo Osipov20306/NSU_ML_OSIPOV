{
  "nbformat": 4,
  "nbformat_minor": 0,
  "metadata": {
    "colab": {
      "provenance": [],
      "authorship_tag": "ABX9TyN+kREzKJHfsnEJFStQuAST",
      "include_colab_link": true
    },
    "kernelspec": {
      "name": "python3",
      "display_name": "Python 3"
    },
    "language_info": {
      "name": "python"
    }
  },
  "cells": [
    {
      "cell_type": "markdown",
      "metadata": {
        "id": "view-in-github",
        "colab_type": "text"
      },
      "source": [
        "<a href=\"https://colab.research.google.com/github/Osipov20306/NSU_ML_OSIPOV/blob/main/ML_HW2.ipynb\" target=\"_parent\"><img src=\"https://colab.research.google.com/assets/colab-badge.svg\" alt=\"Open In Colab\"/></a>"
      ]
    },
    {
      "cell_type": "markdown",
      "source": [
        "1. Сортировка в обратном порядке"
      ],
      "metadata": {
        "id": "DXFQ437haS3H"
      }
    },
    {
      "cell_type": "code",
      "source": [
        "n = int(input())\n",
        "spisok = []\n",
        "for i in range(n):\n",
        "  spisok.append(int(input()))\n",
        "spisok.sort()\n",
        "for i in reversed(spisok):\n",
        "    print(i)\n"
      ],
      "metadata": {
        "colab": {
          "base_uri": "https://localhost:8080/"
        },
        "id": "q8QfXe5Hadnf",
        "outputId": "2a2200a1-50c1-44c6-e6c6-a9dfd74506ee"
      },
      "execution_count": null,
      "outputs": [
        {
          "output_type": "stream",
          "name": "stdout",
          "text": [
            "4\n",
            "2\n",
            "-5\n",
            "1\n",
            "9\n",
            "9\n",
            "2\n",
            "1\n",
            "-5\n"
          ]
        }
      ]
    },
    {
      "cell_type": "markdown",
      "source": [
        "2. Фильтр"
      ],
      "metadata": {
        "id": "yYDwvnz5eyXE"
      }
    },
    {
      "cell_type": "code",
      "source": [
        "spisok = []\n",
        "for _ in range(int(input())):\n",
        "  s = input()\n",
        "  if s[:4] == '####': continue\n",
        "  if s[:2] == '%%': s = s[2:]\n",
        "  spisok.append(s)\n",
        "for i in range(len(spisok)):\n",
        "  print(spisok[i])\n"
      ],
      "metadata": {
        "colab": {
          "base_uri": "https://localhost:8080/"
        },
        "id": "7y6WlayofEnF",
        "outputId": "8be0a8d6-29b6-4a4e-953f-5b15400cdb19"
      },
      "execution_count": null,
      "outputs": [
        {
          "output_type": "stream",
          "name": "stdout",
          "text": [
            "3\n",
            "SVO TRS 29481292\n",
            "%%LJPZ DME 11113283675\n",
            "####&%^^^^\n",
            "SVO TRS 29481292\n",
            "LJPZ DME 11113283675\n"
          ]
        }
      ]
    },
    {
      "cell_type": "markdown",
      "source": [
        "3. От и до"
      ],
      "metadata": {
        "id": "vcxHBBG4nzym"
      }
    },
    {
      "cell_type": "code",
      "source": [
        "n = int(input())\n",
        "spisok = [int(input()) for i in range(n)]\n",
        "p = int(input())\n",
        "q = int(input())\n",
        "\n",
        "ind = 0\n",
        "sum_spiska = 0\n",
        "for i in spisok:\n",
        "  ind +=1\n",
        "  if (ind >= p) and (ind <=q):\n",
        "    sum_spiska += i\n",
        "print(sum_spiska)"
      ],
      "metadata": {
        "colab": {
          "base_uri": "https://localhost:8080/"
        },
        "id": "VKlypB4pn35-",
        "outputId": "664af85f-0d5e-4c99-d39c-d2517776bd8f"
      },
      "execution_count": null,
      "outputs": [
        {
          "output_type": "stream",
          "name": "stdout",
          "text": [
            "5\n",
            "100\n",
            "222\n",
            "300\n",
            "444\n",
            "500\n",
            "2\n",
            "4\n",
            "966\n"
          ]
        }
      ]
    },
    {
      "cell_type": "markdown",
      "source": [
        "4. Список отличников"
      ],
      "metadata": {
        "id": "BjmsXnTTueOy"
      }
    },
    {
      "cell_type": "code",
      "source": [
        "def Artek(s,n):\n",
        "  s_new = s.replace(',',\"\")\n",
        "  spisok = s_new.split()\n",
        "  spisok_otlichnikov = []\n",
        "  count = 0;\n",
        "  for i in spisok:\n",
        "    count+=1\n",
        "    if i == '5':\n",
        "      spisok_otlichnikov.append(spisok[count-2])\n",
        "  sp = sorted(spisok_otlichnikov[:n])\n",
        "  print(', '.join(sp))\n",
        "\n",
        "stroka = str(input())\n",
        "N = int(input())\n",
        "Artek(stroka,N)"
      ],
      "metadata": {
        "colab": {
          "base_uri": "https://localhost:8080/"
        },
        "id": "tsYhYPHuupZh",
        "outputId": "f751c9ac-a1b0-4389-e4b8-6bf9b207ff8a"
      },
      "execution_count": null,
      "outputs": [
        {
          "output_type": "stream",
          "name": "stdout",
          "text": [
            "Сидоров 3, Смирнова 5, Самойкин 4, Емельянов 2, Кац 5, Вдовиченко 5, Северин 4, Субботкин 5\n",
            "3\n",
            "Вдовиченко, Кац, Смирнова\n"
          ]
        }
      ]
    },
    {
      "cell_type": "markdown",
      "source": [
        "5. Пароль"
      ],
      "metadata": {
        "id": "2_rqE6Rl69Dr"
      }
    },
    {
      "cell_type": "code",
      "source": [
        "def password_level(stroka):\n",
        "  Numbers = {0, 1, 2, 3 ,4 ,5 ,6 ,7, 8, 9}\n",
        "  Special_symb = {'@', '#','$','%','&','*','(',')','.',',','-','_','+'}\n",
        "  password = set(stroka)\n",
        "  if len(stroka) <=7:\n",
        "    return 'Недопустимый пароль'\n",
        "  else:\n",
        "    if (stroka.isalpha()==False): # не все буквы\n",
        "\n",
        "      if (stroka.isdigit()==True): # только цифры\n",
        "        return 'Ненадежный пароль'\n",
        "      else: # не только цифры (буквы и цифры)\n",
        "        if (stroka.islower()==True) or (stroka.isupper()==True): # один регистр букв\n",
        "          return 'Слабый пароль'\n",
        "        else:\n",
        "          if (len(password.intersection(Special_symb)) !=0):\n",
        "            return 'Надежный пароль'\n",
        "          else:\n",
        "            return 'Ненадежный (нет спецсимволов)'\n",
        "    else: # все буквы\n",
        "      if (stroka.islower() == False): # не все нижн регистр\n",
        "          return('Слабый пароль')\n",
        "      else:\n",
        "          return 'Надежный пароль'\n",
        "\n",
        "p = \"\"\n",
        "while p != \"Надежный пароль\":\n",
        "    password = str(input(\"Придумайте пароль: \"))\n",
        "    p = password_level(password)\n",
        "    print(p)\n",
        "\n",
        "password_1 = \"\"\n",
        "while password != password_1:\n",
        "    password_1 = str(input(\"Подтвердите пароль: \"))\n",
        "    if password != password_1:\n",
        "        print(\"Пароли не совпадают\")\n",
        "print('Регистрация завершена!')"
      ],
      "metadata": {
        "id": "moLXhVnu7AF7",
        "colab": {
          "base_uri": "https://localhost:8080/"
        },
        "outputId": "eb5df3dd-be26-4617-ccd6-bd8686372190"
      },
      "execution_count": null,
      "outputs": [
        {
          "output_type": "stream",
          "name": "stdout",
          "text": [
            "Придумайте пароль: 123\n",
            "Недопустимый пароль\n",
            "Придумайте пароль: 1233\n",
            "Недопустимый пароль\n",
            "Придумайте пароль: Tt2002$$\n",
            "Надежный пароль\n",
            "Подтвердите пароль: sehgfhjehjew\n",
            "Пароли не совпадают\n",
            "Подтвердите пароль: Tt2002$$\n",
            "Регистрация завершена!\n"
          ]
        }
      ]
    }
  ]
}